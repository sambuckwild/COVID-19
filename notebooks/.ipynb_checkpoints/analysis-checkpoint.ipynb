{
 "cells": [
  {
   "cell_type": "code",
   "execution_count": null,
   "metadata": {},
   "outputs": [],
   "source": [
    "from data_munging import *\n",
    "from plotting import *\n",
    "from dataframe_testing import *\n",
    "from analysis import *\n",
    "import scipy.stats as stats\n",
    "import numpy as np"
   ]
  },
  {
   "cell_type": "code",
   "execution_count": null,
   "metadata": {},
   "outputs": [],
   "source": [
    "us_total = covid_merge_two_week['US_Daily_Totals'].sum()\n",
    "us_total_prop = covid_merge_two_week['US_Daily_prop'].sum()\n",
    "can_total = covid_merge_two_week['Canada_Daily_Cases'].sum()\n",
    "can_total_prop = covid_merge_two_week['Canada_Daily_prop'].sum()\n",
    "aus_total = covid_merge_two_week['Aus_Daily_Cases'].sum()\n",
    "aus_total_prop = covid_merge_two_week['Aus_Daily_prop'].sum()\n",
    "nz_total = covid_merge_two_week['NZ_Daily_Cases'].sum()\n",
    "nz_total_prop = covid_merge_two_week['NZ_Daily_prop'].sum()\n",
    "\n",
    "print(us_total, \n",
    "us_total_prop)\n",
    "print(can_total ,can_total_prop)\n",
    "print(aus_total,aus_total_prop)\n",
    "print(nz_total ,nz_total_prop )"
   ]
  },
  {
   "cell_type": "code",
   "execution_count": null,
   "metadata": {},
   "outputs": [],
   "source": [
    "us_mean_prop = np.mean(deaths_merge['US_Daily_prop'])\n",
    "can_mean_prop = np.mean(deaths_merge['Canada_Daily_prop'])\n",
    "aus_mean_prop = np.mean(deaths_merge['Aus_Daily_prop'])\n",
    "nz_mean_prop = np.mean(deaths_merge['NZ_Daily_prop'])\n",
    "\n",
    "print(us_mean_prop, can_mean_prop, aus_mean_prop, nz_mean_prop)\n"
   ]
  },
  {
   "cell_type": "code",
   "execution_count": null,
   "metadata": {},
   "outputs": [],
   "source": [
    "# us_mean = np.mean(deaths_merge['US_Daily_Deaths'])\n",
    "# can_mean = np.mean(deaths_merge['Canada_Daily_Deaths'])\n",
    "# aus_mean = np.mean(deaths_merge['Aus_Daily_Deaths'])\n",
    "# nz_mean = np.mean(deaths_merge['NZ_Daily_Deaths'])\n",
    "# u_var = np.var(deaths_merge['US_Daily_Deaths'])\n",
    "# c_var = np.var(deaths_merge['Canada_Daily_Deaths'])\n",
    "# a_var = np.var(deaths_merge['Aus_Daily_Deaths'])\n",
    "# n_var = np.var(deaths_merge['NZ_Daily_Deaths'])\n",
    "# u_norm = stats.norm(us_mean, np.sqrt(u_var/us_sample))\n",
    "# c_norm = stats.norm(can_mean, np.sqrt(c_var/can_sample))\n",
    "# a_norm = stats.norm(aus_mean, np.sqrt(a_var/aus_sample))\n",
    "# n_norm = stats.norm(nz_mean, np.sqrt(n_var/nz_sample))"
   ]
  },
  {
   "cell_type": "code",
   "execution_count": null,
   "metadata": {},
   "outputs": [],
   "source": [
    "sample_total = int((us_pop + aus_pop + can_pop + nz_pop)*100000)\n",
    "print(sample_total)"
   ]
  },
  {
   "cell_type": "code",
   "execution_count": null,
   "metadata": {},
   "outputs": [],
   "source": [
    "us_sample = us_total_prop\n",
    "can_sample = can_total_prop\n",
    "aus_sample = aus_total_prop\n",
    "nz_sample = nz_total_prop  \n",
    "#calculate sample variances\n",
    "us_var = np.var(deaths_merge['US_Daily_prop'])\n",
    "can_var = np.var(deaths_merge['Canada_Daily_prop'])\n",
    "aus_var = np.var(deaths_merge['Aus_Daily_prop'])\n",
    "nz_var = np.var(deaths_merge['NZ_Daily_prop'])\n",
    "# print(us_sample, can_sample, aus_sample, nz_sample)\n",
    "# print(us_var, can_var, aus_var, nz_var)"
   ]
  },
  {
   "cell_type": "code",
   "execution_count": null,
   "metadata": {},
   "outputs": [],
   "source": [
    "us_norm_dist = stats.norm(us_mean_prop, np.sqrt(us_var/us_sample))\n",
    "can_norm_dist = stats.norm(can_mean_prop, np.sqrt(can_var/can_sample))\n",
    "aus_norm_dist = stats.norm(aus_mean_prop, np.sqrt(aus_var/aus_sample))\n",
    "nz_norm_dist = stats.norm(nz_mean_prop, np.sqrt(nz_var/nz_sample))"
   ]
  },
  {
   "cell_type": "code",
   "execution_count": null,
   "metadata": {},
   "outputs": [],
   "source": [
    "x = np.linspace(-0.03, 0.27, num=250)\n",
    "fig, ax = plt.subplots()\n",
    "ax.plot(x, us_norm_dist.pdf(x), color='#FBC00C')\n",
    "ax.plot(x, can_norm_dist.pdf(x), color='#A62205')\n",
    "ax.plot(x, aus_norm_dist.pdf(x), color='#1A89F4')\n",
    "ax.plot(x, nz_norm_dist.pdf(x), color='black');\n",
    "# ax.plot(x, ha_dist.pdf(x), color='m');"
   ]
  },
  {
   "cell_type": "code",
   "execution_count": null,
   "metadata": {},
   "outputs": [],
   "source": [
    "h0_dist = stats.norm(us_mean_prop, np.sqrt(us_var/us_sample))\n",
    "ha_dist = stats.norm((us_mean_prop/2), np.sqrt(us_var/us_sample))\n",
    "x = np.linspace(.05, 0.27, num=250)\n",
    "fig, ax = plt.subplots()\n",
    "ax.plot(x, h0_dist.pdf(x), color='#FBC00C')\n",
    "ax.plot(x, ha_dist.pdf(x), color='#A62205');\n"
   ]
  },
  {
   "cell_type": "code",
   "execution_count": null,
   "metadata": {},
   "outputs": [],
   "source": [
    "us_stat, us_pvalue = stats.ttest_ind(deaths_merge['US_Daily_prop'], deaths_merge['Canada_Daily_prop'],\n",
    "equal_var=False)\n",
    "print(us_stat, us_pvalue)"
   ]
  },
  {
   "cell_type": "code",
   "execution_count": null,
   "metadata": {},
   "outputs": [],
   "source": [
    "stat, p_value = stats.ttest_ind(deaths_merge['Canada_Daily_prop'], deaths_merge['US_Daily_prop'])\n",
    "p_value"
   ]
  },
  {
   "cell_type": "code",
   "execution_count": null,
   "metadata": {},
   "outputs": [],
   "source": [
    "us_stat, us_pvalue = stats.ttest_ind_from_stats(us_mean_prop, np.sqrt(us_var/us_sample), us_sample, can_mean_prop, np.sqrt(can_var/can_sample), can_sample, equal_var=True)\n",
    "us_stat, us_pvalue"
   ]
  },
  {
   "cell_type": "code",
   "execution_count": null,
   "metadata": {},
   "outputs": [],
   "source": [
    "us_total_death = deaths_merge['US_Daily_Deaths'].sum()\n",
    "us_total_prop_death = deaths_merge['US_Daily_prop'].sum()\n",
    "can_total_death = deaths_merge['Canada_Daily_Deaths'].sum()\n",
    "can_total_prop_death = deaths_merge['Canada_Daily_prop'].sum()\n",
    "aus_total_death = deaths_merge['Aus_Daily_Deaths'].sum()\n",
    "aus_total_prop_death = deaths_merge['Aus_Daily_prop'].sum()\n",
    "nz_total_death = deaths_merge['NZ_Daily_Deaths'].sum()\n",
    "nz_total_prop_death = deaths_merge['NZ_Daily_prop'].sum()\n",
    "\n",
    "print(us_total_death, us_total_prop_death, can_total_death,\n",
    "      can_total_prop_death,aus_total_death, aus_total_prop_death,\n",
    "     nz_total_death, nz_total_prop_death)"
   ]
  },
  {
   "cell_type": "code",
   "execution_count": null,
   "metadata": {},
   "outputs": [],
   "source": [
    "covid_merge.head()"
   ]
  },
  {
   "cell_type": "code",
   "execution_count": null,
   "metadata": {},
   "outputs": [],
   "source": [
    "covid_merge_two_week = covid_merge.iloc[0:265, :]\n"
   ]
  },
  {
   "cell_type": "code",
   "execution_count": null,
   "metadata": {},
   "outputs": [],
   "source": [
    "us_total"
   ]
  },
  {
   "cell_type": "code",
   "execution_count": null,
   "metadata": {},
   "outputs": [],
   "source": [
    "us_p = us_total_prop_death / us_total_prop\n",
    "can_p = can_total_prop_death / can_total_prop\n",
    "aus_p = aus_total_prop_death / aus_total_prop\n",
    "nz_p = nz_total_prop_death / nz_total_prop\n",
    "print(us_p, can_p, aus_p, nz_p)"
   ]
  },
  {
   "cell_type": "code",
   "execution_count": null,
   "metadata": {},
   "outputs": [],
   "source": [
    "mu = 0\n",
    "p = (us_total_prop_death + can_total_prop_death) / (us_total_prop+can_total_prop)\n",
    "std = np.sqrt(((us_total_prop+can_total_prop)*p*(1-p))/(us_total_prop*can_total_prop))\n",
    "diff_norm = stats.norm(0, std)"
   ]
  },
  {
   "cell_type": "code",
   "execution_count": null,
   "metadata": {},
   "outputs": [],
   "source": [
    "fig, ax = plt.subplots()\n",
    "x=np.linspace(-.25, 0.25, num=250)\n",
    "ax.plot(x, diff_norm.pdf(x));"
   ]
  },
  {
   "cell_type": "code",
   "execution_count": null,
   "metadata": {},
   "outputs": [],
   "source": [
    "diff = can_p - us_p\n",
    "p_value = 1 - diff_norm.cdf(diff)\n",
    "diff, p_value"
   ]
  },
  {
   "cell_type": "code",
   "execution_count": null,
   "metadata": {},
   "outputs": [],
   "source": [
    "fig, ax = plt.subplots()\n",
    "\n",
    "x = np.linspace(-0.3, 0.3, num=250)\n",
    "ax.plot(x, diff_norm.pdf(x), linewidth=3)\n",
    "ax.fill_between(x, diff_norm.pdf(x), where=(x >= diff),\n",
    "                color=\"red\", alpha=0.5)\n",
    "\n",
    "ax.set_title(\"p-value Reigon\")\n"
   ]
  },
  {
   "cell_type": "code",
   "execution_count": null,
   "metadata": {},
   "outputs": [],
   "source": [
    "def freq_plot(c1_dist, c1_clr, c1_label, c2_dist, c2_clr, c2_label, c3_dist, c3_clr, c3_label, \n",
    "c4_dist, c4_clr, c4_label, ax, title, x_label, y_label, x):\n",
    "    '''Inputs: c1_dist, c2_dist, c3_dist, c4_dist - countries' normal approximated distribution\n",
    "               c1_clr, c2_clr, c3_clr, c4_clr - countries' color for line on plot (string)\n",
    "               cl_label, c2_label, c3_label, c4_label - string label for country on plot\n",
    "               ax - axes to put figure on\n",
    "               title - string of title for plot\n",
    "               x_label - string of label for x axis\n",
    "               y_label - string of label for y axis\n",
    "               x - numpy array to plot distributions over\n",
    "        Plots a graph with all four countries' frequency distributions for comparison\n",
    "        Output: plot'''\n",
    "    ax.plot(x, c1_dist._dist.pdf(x), color=c1_clr, label = c1_label)\n",
    "    ax.plot(x, c2_dist.pdf(x), color=c2_clr, label=c2_label)\n",
    "    ax.plot(x, c3_dist.pdf(x), color=c3_clr, label=c3_label)\n",
    "    ax.plot(x, c4_dist.pdf(x), color=c4_clr, label=c4_label)\n",
    "    ax.set_xlabel(x_label)\n",
    "    ax.set_ylabel(y_label)\n",
    "    ax.set_title(title)\n",
    "    ax.legend()"
   ]
  },
  {
   "cell_type": "code",
   "execution_count": null,
   "metadata": {},
   "outputs": [],
   "source": [
    "fig, ax = plt.subplots(figsize=(10,6))\n",
    "freq_plot(us_norm_dist, '#FBC00C', 'United States', can_norm_dist, '#A62205', 'Canada', aus_norm_dist, \n",
    "'#1A89F4', 'Australia', nz_norm_dist, 'black', 'New Zealand', ax, \n",
    "'Comparing Country Probability of Death due to COVID-19 Infection', 'Probability', 'Frequency', \n",
    "x=np.linspace(-0.03, 0.27, num=250))"
   ]
  },
  {
   "cell_type": "code",
   "execution_count": null,
   "metadata": {},
   "outputs": [],
   "source": []
  }
 ],
 "metadata": {
  "kernelspec": {
   "display_name": "Python 3",
   "language": "python",
   "name": "python3"
  },
  "language_info": {
   "codemirror_mode": {
    "name": "ipython",
    "version": 3
   },
   "file_extension": ".py",
   "mimetype": "text/x-python",
   "name": "python",
   "nbconvert_exporter": "python",
   "pygments_lexer": "ipython3",
   "version": "3.7.9"
  }
 },
 "nbformat": 4,
 "nbformat_minor": 4
}
