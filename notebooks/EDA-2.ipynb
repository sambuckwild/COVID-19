{
 "cells": [
  {
   "cell_type": "code",
   "execution_count": null,
   "metadata": {},
   "outputs": [],
   "source": [
    "from data_munging import *\n",
    "from dataframe_testing import *\n",
    "from plotting import *"
   ]
  },
  {
   "cell_type": "code",
   "execution_count": null,
   "metadata": {},
   "outputs": [],
   "source": [
    "import matplotlib.pyplot as plt\n",
    "import seaborn as sns\n",
    "import numpy as np\n",
    "import scipy.stats as stats\n",
    "import datetime as dt\n",
    "import folium\n",
    "import matplotlib.dates as dates\n",
    "from matplotlib.ticker import NullFormatter\n",
    "from matplotlib.dates import MonthLocator, DateFormatter"
   ]
  },
  {
   "cell_type": "code",
   "execution_count": null,
   "metadata": {},
   "outputs": [],
   "source": [
    "def daily_case_bar(df, dates, daily_cases, clr, title, lbl):\n",
    "    ax.bar(dates, daily_cases, color = clr, label=lbl)\n",
    "    ax.set_title(title, fontsize=20)\n",
    "    ax.set_ylabel('Number of SARS-CoV-2 Cases', fontsize=16)\n",
    "    ax.set_xlabel('\\nDate', fontsize=16)\n",
    "    ax.xaxis.set_major_locator(MonthLocator())\n",
    "    ax.xaxis.set_major_formatter(NullFormatter())\n",
    "    ax.xaxis.set_minor_locator(MonthLocator(bymonthday=15))\n",
    "    ax.xaxis.set_minor_formatter(DateFormatter('\\n%b %Y'))\n",
    "    ax.tick_params(axis='x', which='major', length=17, width=1, labelsize=1)\n",
    "    ax.tick_params(axis='x', which='minor', length=3, width=1, labelsize='medium')\n",
    "    ax.legend()\n",
    "    fig.tight_layout()"
   ]
  },
  {
   "cell_type": "code",
   "execution_count": null,
   "metadata": {},
   "outputs": [],
   "source": [
    "def image_of_plot(file):\n",
    "    '''Input: file - file path for image (string)\n",
    "        Creates a png file of a plot and saves it to images folder\n",
    "        Output: png file'''\n",
    "    return plt.savefig(file)"
   ]
  },
  {
   "cell_type": "code",
   "execution_count": null,
   "metadata": {},
   "outputs": [],
   "source": [
    "us_covid_total.head()"
   ]
  },
  {
   "cell_type": "code",
   "execution_count": null,
   "metadata": {},
   "outputs": [],
   "source": [
    "us_plot = '../images/us_daily_cases.png'\n",
    "a = us_covid_total[us_case_date_col]\n",
    "b = us_covid_total['new_case']\n",
    "fig, ax = plt.subplots(figsize=(12,8))\n",
    "daily_case_bar(us_covid_total, a, b, '#FBC00C', 'United States COVID-19 Daily Cases', 'United States');\n",
    "image_of_plot(us_plot)"
   ]
  },
  {
   "cell_type": "code",
   "execution_count": null,
   "metadata": {},
   "outputs": [],
   "source": [
    "canada_covid_total.head()"
   ]
  },
  {
   "cell_type": "code",
   "execution_count": null,
   "metadata": {},
   "outputs": [],
   "source": [
    "canada_plot = '../images/canada_daily_cases.png'\n",
    "c = canada_covid_total[can_date_col]\n",
    "d = canada_covid_total['numtoday']\n",
    "fig, ax = plt.subplots(figsize=(12,8))\n",
    "daily_case_bar(canada_covid_total, c, d, '#A62205', 'Canada COVID-19 Daily Cases', 'Canada');\n",
    "image_of_plot(canada_plot)"
   ]
  },
  {
   "cell_type": "code",
   "execution_count": null,
   "metadata": {},
   "outputs": [],
   "source": [
    "aus_covid.head()"
   ]
  },
  {
   "cell_type": "code",
   "execution_count": null,
   "metadata": {},
   "outputs": [],
   "source": [
    "aus_plot = '../images/aus_daily_cases.png'\n",
    "e = aus_covid[aus_date_col]\n",
    "f = aus_covid['confirmed']\n",
    "fig, ax = plt.subplots(figsize=(12,8))\n",
    "daily_case_bar(aus_covid, e, f, '#1A89F4', 'Australia COVID-19 Daily Cases', 'Australia');\n",
    "image_of_plot(aus_plot)"
   ]
  },
  {
   "cell_type": "code",
   "execution_count": null,
   "metadata": {},
   "outputs": [],
   "source": [
    "nz_covid_total.head()"
   ]
  },
  {
   "cell_type": "code",
   "execution_count": null,
   "metadata": {},
   "outputs": [],
   "source": [
    "nz_plot = '../images/nz_daily_cases.png'\n",
    "x = nz_covid_total[nz_date_col]\n",
    "y = nz_covid_total['Daily_conf']\n",
    "fig, ax = plt.subplots(figsize=(12,8))\n",
    "daily_case_bar(nz_covid_total, x, y, 'black', 'New Zealand COVID-19 Daily Cases', 'New Zealand');\n",
    "image_of_plot(nz_plot)"
   ]
  },
  {
   "cell_type": "code",
   "execution_count": null,
   "metadata": {},
   "outputs": [],
   "source": [
    "co_covid.head()"
   ]
  },
  {
   "cell_type": "code",
   "execution_count": null,
   "metadata": {},
   "outputs": [],
   "source": [
    "colorado_plot = '../images/colorado_daily_cases.png'\n",
    "g = co_covid[us_case_date_col]\n",
    "h = co_covid['new_case']\n",
    "fig, ax = plt.subplots(figsize=(12,8))\n",
    "daily_case_bar(co_covid, g, h, 'm', 'Colorado COVID-19 Daily Cases', 'Colorado');\n",
    "image_of_plot(colorado_plot)"
   ]
  },
  {
   "cell_type": "code",
   "execution_count": null,
   "metadata": {},
   "outputs": [],
   "source": [
    "merge_plot_1 = '../images/four_merge_daily_cases.png'\n",
    "fig, ax = plt.subplots(figsize=(12,8))\n",
    "daily_case_bar(us_covid_total, a, b, '#FBC00C', 'COVID-19 Daily Cases', 'United States')\n",
    "daily_case_bar(canada_covid_total, c, d, '#A62205', 'COVID-19 Daily Cases', 'Canada')\n",
    "daily_case_bar(aus_covid, e, f, '#1A89F4', 'COVID-19 Daily Cases', 'Australia')\n",
    "daily_case_bar(nz_covid_total, x, y, 'black', 'COVID-19 Daily Cases', 'New Zealand');\n",
    "image_of_plot(merge_plot_1)"
   ]
  },
  {
   "cell_type": "code",
   "execution_count": null,
   "metadata": {},
   "outputs": [],
   "source": [
    "merge_plot_2 = '../images/three_merge_daily_cases.png'\n",
    "fig, ax = plt.subplots(figsize=(12,8))\n",
    "daily_case_bar(canada_covid_total, c, d, '#A62205', 'COVID-19 Daily Cases', 'Canada')\n",
    "daily_case_bar(aus_covid, e, f, '#1A89F4', 'COVID-19 Daily Cases', 'Australia')\n",
    "daily_case_bar(nz_covid_total, x, y, 'black', 'COVID-19 Daily Cases', 'New Zealand');\n",
    "image_of_plot(merge_plot_2)"
   ]
  },
  {
   "cell_type": "code",
   "execution_count": null,
   "metadata": {},
   "outputs": [],
   "source": [
    "merge_plot_3 = '../images/two_merge_daily_cases.png'\n",
    "fig, ax = plt.subplots(figsize=(12,8))\n",
    "daily_case_bar(aus_covid, e, f, '#1A89F4', 'COVID-19 Daily Cases', 'Australia')\n",
    "daily_case_bar(nz_covid_total, x, y, 'black', 'COVID-19 Daily Cases', 'New Zealand');\n",
    "image_of_plot(merge_plot_3)"
   ]
  },
  {
   "cell_type": "code",
   "execution_count": null,
   "metadata": {},
   "outputs": [],
   "source": [
    "merge_plot_4 = '../images/co_nz_merge_daily_cases.png'\n",
    "fig, ax = plt.subplots(figsize=(12,8))\n",
    "daily_case_bar(co_covid, g, h, 'm', 'COVID-19 Daily Cases', 'Colorado')\n",
    "daily_case_bar(nz_covid_total, x, y, 'black', 'COVID-19 Daily Cases Comparison', 'New Zealand');\n",
    "image_of_plot(merge_plot_4)"
   ]
  },
  {
   "cell_type": "code",
   "execution_count": null,
   "metadata": {},
   "outputs": [],
   "source": [
    "covid_merge.info()"
   ]
  },
  {
   "cell_type": "code",
   "execution_count": null,
   "metadata": {},
   "outputs": [],
   "source": [
    "covid_merge.head()"
   ]
  },
  {
   "cell_type": "code",
   "execution_count": null,
   "metadata": {},
   "outputs": [],
   "source": [
    "#fig, ax = plt.subplots(figsize=(12,8))\n",
    "#x = covid_merge['Date']\n",
    "#y = covid_merge['Aus_Daily_Cases', 'NZ_Daily_Cases', 'Canada_Daily_Cases', 'US_Daily_Totals']\n",
    "covid_merge.plot(x=\"Date\", y=['Aus_Daily_Cases', 'NZ_Daily_Cases'], kind=\"bar\")\n"
   ]
  },
  {
   "cell_type": "code",
   "execution_count": null,
   "metadata": {},
   "outputs": [],
   "source": [
    "fig, ax = plt.subplots(figsize=(12,8))\n",
    "#ax.plot(covid_merge['Date'], covid_merge['US_Daily_Totals'], color ='#FBC00C', label='United States')\n",
    "ax.plot(covid_merge['Date'], covid_merge['Canada_Daily_Cases'], color ='#A62205', label='Canada')\n",
    "ax.plot(covid_merge['Date'], covid_merge['Aus_Daily_Cases'], color ='#1A89F4', label='Australia')\n",
    "ax.plot(covid_merge['Date'], covid_merge['NZ_Daily_Cases'], color ='black', label='New Zealand')\n",
    "ax.legend();"
   ]
  },
  {
   "cell_type": "code",
   "execution_count": null,
   "metadata": {},
   "outputs": [],
   "source": [
    "merge_plot_1 = '../images/four_merge_daily_cases.png'\n",
    "fig, ax = plt.subplots(figsize=(12,8))\n",
    "daily_case_bar(us_covid_total, a, b, '#FBC00C', 'COVID-19 Daily Cases', 'United States')\n",
    "daily_case_bar(canada_covid_total, c, d, '#A62205', 'COVID-19 Daily Cases', 'Canada')\n",
    "daily_case_bar(aus_covid, e, f, '#1A89F4', 'COVID-19 Daily Cases', 'Australia')\n",
    "daily_case_bar(nz_covid_total, x, y, 'black', 'COVID-19 Daily Cases', 'New Zealand')\n",
    "image_of_plot(merge_plot_1)"
   ]
  },
  {
   "cell_type": "code",
   "execution_count": null,
   "metadata": {},
   "outputs": [],
   "source": []
  }
 ],
 "metadata": {
  "kernelspec": {
   "display_name": "Python 3",
   "language": "python",
   "name": "python3"
  },
  "language_info": {
   "codemirror_mode": {
    "name": "ipython",
    "version": 3
   },
   "file_extension": ".py",
   "mimetype": "text/x-python",
   "name": "python",
   "nbconvert_exporter": "python",
   "pygments_lexer": "ipython3",
   "version": "3.7.9"
  }
 },
 "nbformat": 4,
 "nbformat_minor": 4
}
